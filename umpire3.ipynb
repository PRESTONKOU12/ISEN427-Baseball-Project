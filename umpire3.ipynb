{
 "cells": [
  {
   "cell_type": "markdown",
   "id": "24be9689",
   "metadata": {},
   "source": [
    "# Analysing Umpire 3 data"
   ]
  },
  {
   "cell_type": "code",
   "execution_count": 2,
   "id": "e143a421",
   "metadata": {},
   "outputs": [],
   "source": [
    "import pandas as pd\n",
    "import pymc as pm\n",
    "import numpy as np\n",
    "import arviz as az\n",
    "import matplotlib.pyplot as plt\n",
    "from sklearn.preprocessing import MinMaxScaler"
   ]
  },
  {
   "cell_type": "code",
   "execution_count": 9,
   "id": "a43b619e",
   "metadata": {},
   "outputs": [],
   "source": [
    "ump3_orig = pd.read_csv('Umpire_3.csv')"
   ]
  },
  {
   "cell_type": "code",
   "execution_count": 10,
   "id": "041082a1",
   "metadata": {},
   "outputs": [],
   "source": [
    "\n",
    "# Clean the data by categorizing the different pitch types \n",
    "def clean_df(orig_df):\n",
    "    \"\"\"\n",
    "    Pitch types:\n",
    "        ['SI' 'AB' 'SL' 'FC' 'CH' 'CU' 'FF' 'FS' 'EP' 'KC' 'FO' 'KN' 'SC' 'ST'\n",
    "         'SV' 'CS' 'FA']\n",
    "    Handedness: R=1, L=0\n",
    "    Description: 'ball': 0, 'called_strike': 1\n",
    "    Error in decision: 'correct': 0, 'incorrect': 1\n",
    "    \"\"\"\n",
    "    df = orig_df.copy()\n",
    "    # Drop nulls \n",
    "    df = df.dropna()\n",
    "    \n",
    "    # Map pitch types to binary columns\n",
    "    unique_pt = df['pitch_type'].unique()\n",
    "    fastballs = ['FF', 'FA', 'FT', 'SI', 'FC'] # 4 seam, 4 seam again, two seam, sinker, cutter\n",
    "    changeups = ['CH', 'EP', 'FO', 'FS'] # Change, ephus, fork, split\n",
    "    off_speed = ['SL', 'CU', 'ST', 'SV', 'CS'] # Slider, curve, sweeper, slurve, slow curve\n",
    "    rare = ['KC', 'KN', 'SC'] # Knucle curve, knuckle ball, screwball\n",
    "    # AB and AS are 'automatic ball/strike' so they are not included. This happens when something like a pitch clock violation occurs\n",
    "    # Against the pitcher or the hitter\n",
    "\n",
    "    # Create new binary columns\n",
    "    df['fastball'] = df['pitch_type'].isin(fastballs).astype(int)\n",
    "    df['changeup'] = df['pitch_type'].isin(changeups).astype(int)\n",
    "    df['off_speed'] = df['pitch_type'].isin(off_speed).astype(int)\n",
    "    df['rare'] = df['pitch_type'].isin(rare).astype(int)\n",
    "\n",
    "    # Drop ptich_type column since it is not categorical\n",
    "    df = df.drop(columns='pitch_type')\n",
    "    \n",
    "    # Same with error\n",
    "    df['error_in_decision'] = df['error_in_decision'].map({'correct': 0, 'incorrect': 1})\n",
    "\n",
    "    # Fix handedness\n",
    "    df['stand'] = df['stand'].map({'R': 1, 'L': 0})\n",
    "    df['p_throws'] = df['p_throws'].map({'R': 1, 'L': 0})\n",
    "    \n",
    "    df['description'] = df['description'].map({'ball': 0, 'called_strike': 1})\n",
    "\n",
    "\n",
    "    # Max min scale the data to make coefficienst more interpretable\n",
    "    scaler = MinMaxScaler()\n",
    "    df = pd.DataFrame(scaler.fit_transform(df), columns=df.columns)\n",
    "\n",
    "    return df\n",
    "\n",
    "\n",
    "ump3 = clean_df(ump3_orig)"
   ]
  },
  {
   "cell_type": "code",
   "execution_count": 11,
   "id": "ed8cbd96",
   "metadata": {},
   "outputs": [],
   "source": [
    "X = ump3.sample(n=200, random_state=42) # Only take a small amount so that the modeling doesn't take 4-ever\n",
    "y_true = np.array(X['error_in_decision'])"
   ]
  },
  {
   "cell_type": "code",
   "execution_count": 26,
   "id": "20401f03",
   "metadata": {},
   "outputs": [
    {
     "name": "stderr",
     "output_type": "stream",
     "text": [
      "Sampling: [beta_atBatNum, beta_balls, beta_pitchNum, beta_strikes, intercept]\n"
     ]
    },
    {
     "ename": "TypeError",
     "evalue": "Unsupported type for `trace` argument: <class 'pymc.model.core.Model'>.",
     "output_type": "error",
     "traceback": [
      "\u001b[0;31m---------------------------------------------------------------------------\u001b[0m",
      "\u001b[0;31mTypeError\u001b[0m                                 Traceback (most recent call last)",
      "Cell \u001b[0;32mIn[26], line 25\u001b[0m\n\u001b[1;32m     22\u001b[0m     \u001b[38;5;66;03m# Sample from the priors\u001b[39;00m\n\u001b[1;32m     23\u001b[0m     prior_samples \u001b[38;5;241m=\u001b[39m pm\u001b[38;5;241m.\u001b[39msample_prior_predictive(\u001b[38;5;241m500\u001b[39m)\n\u001b[0;32m---> 25\u001b[0m prior_samples\u001b[38;5;241m.\u001b[39mextend(pm\u001b[38;5;241m.\u001b[39msample_posterior_predictive(prior_model))\n\u001b[1;32m     26\u001b[0m \u001b[38;5;66;03m# Plot the prior predictive checks (PPC) curve\u001b[39;00m\n\u001b[1;32m     27\u001b[0m az\u001b[38;5;241m.\u001b[39mplot_ppc(prior_samples, group\u001b[38;5;241m=\u001b[39m\u001b[38;5;124m\"\u001b[39m\u001b[38;5;124mprior\u001b[39m\u001b[38;5;124m\"\u001b[39m, data_pairs\u001b[38;5;241m=\u001b[39m{\u001b[38;5;124m\"\u001b[39m\u001b[38;5;124my\u001b[39m\u001b[38;5;124m\"\u001b[39m: \u001b[38;5;124m\"\u001b[39m\u001b[38;5;124mp\u001b[39m\u001b[38;5;124m\"\u001b[39m})\n",
      "File \u001b[0;32m~/ANACONDA/anaconda3/lib/python3.12/site-packages/pymc/sampling/forward.py:767\u001b[0m, in \u001b[0;36msample_posterior_predictive\u001b[0;34m(trace, model, var_names, sample_dims, random_seed, progressbar, progressbar_theme, return_inferencedata, extend_inferencedata, predictions, idata_kwargs, compile_kwargs)\u001b[0m\n\u001b[1;32m    765\u001b[0m     nchain \u001b[38;5;241m=\u001b[39m \u001b[38;5;241m1\u001b[39m\n\u001b[1;32m    766\u001b[0m \u001b[38;5;28;01melse\u001b[39;00m:\n\u001b[0;32m--> 767\u001b[0m     \u001b[38;5;28;01mraise\u001b[39;00m \u001b[38;5;167;01mTypeError\u001b[39;00m(\u001b[38;5;124mf\u001b[39m\u001b[38;5;124m\"\u001b[39m\u001b[38;5;124mUnsupported type for `trace` argument: \u001b[39m\u001b[38;5;132;01m{\u001b[39;00m\u001b[38;5;28mtype\u001b[39m(trace)\u001b[38;5;132;01m}\u001b[39;00m\u001b[38;5;124m.\u001b[39m\u001b[38;5;124m\"\u001b[39m)\n\u001b[1;32m    768\u001b[0m len_trace \u001b[38;5;241m=\u001b[39m \u001b[38;5;28mlen\u001b[39m(_trace)\n\u001b[1;32m    770\u001b[0m \u001b[38;5;28;01mif\u001b[39;00m \u001b[38;5;28misinstance\u001b[39m(_trace, MultiTrace):\n",
      "\u001b[0;31mTypeError\u001b[0m: Unsupported type for `trace` argument: <class 'pymc.model.core.Model'>."
     ]
    }
   ],
   "source": [
    "# Generate a simulated dataset\n",
    "np.random.seed(42)\n",
    "simulated_X = pd.DataFrame({\n",
    "    'description': np.random.choice([0, 1], size=200),\n",
    "    'pitch_number': np.random.uniform(0, 1, size=200),\n",
    "    'at_bat_number': np.random.uniform(0, 1, size=200)\n",
    "})\n",
    "\n",
    "# Sample from the priors\n",
    "with pm.Model() as prior_model:\n",
    "    # Priors\n",
    "    beta_balls = pm.HalfNormal('beta_balls', sigma=1)\n",
    "    beta_strikes = pm.HalfNormal('beta_strikes', sigma=1)\n",
    "    beta_pitchNum = pm.HalfNormal('beta_pitchNum', sigma=1)\n",
    "    beta_atBatNum = pm.HalfNormal('beta_atBatNum', sigma=1)\n",
    "    intercept = pm.Normal('intercept', mu=0, sigma=1)\n",
    "\n",
    "    # Logistic model\n",
    "    logits = intercept + beta_balls * simulated_X['description'] + beta_strikes * (1 - simulated_X['description']) + beta_pitchNum * simulated_X['pitch_number'] + beta_atBatNum * simulated_X['at_bat_number']\n",
    "    p = pm.Deterministic('p', pm.math.sigmoid(logits))\n",
    "    \n",
    "    # Sample from the priors\n",
    "    prior_samples = pm.sample_prior_predictive(500)\n",
    "\n",
    "prior_samples.extend(pm.sample_posterior_predictive(prior_model))\n",
    "# Plot the prior predictive checks (PPC) curve\n",
    "az.plot_ppc(prior_samples, group=\"prior\", data_pairs={\"y\": \"p\"})\n",
    "plt.title(\"Prior Predictive Check\")\n",
    "plt.show()\n",
    "\n"
   ]
  },
  {
   "cell_type": "code",
   "execution_count": null,
   "id": "07ecdf96",
   "metadata": {},
   "outputs": [
    {
     "name": "stderr",
     "output_type": "stream",
     "text": [
      "Auto-assigning NUTS sampler...\n",
      "Initializing NUTS using jitter+adapt_diag...\n",
      "Multiprocess sampling (4 chains in 4 jobs)\n",
      "NUTS: [beta_balls, beta_strikes, beta_pitchNum, beta_atBatNum, intercept]\n"
     ]
    },
    {
     "data": {
      "application/vnd.jupyter.widget-view+json": {
       "model_id": "77ed699296cb44ad9b3bb1d4e663ffc0",
       "version_major": 2,
       "version_minor": 0
      },
      "text/plain": [
       "Output()"
      ]
     },
     "metadata": {},
     "output_type": "display_data"
    },
    {
     "data": {
      "text/html": [
       "<pre style=\"white-space:pre;overflow-x:auto;line-height:normal;font-family:Menlo,'DejaVu Sans Mono',consolas,'Courier New',monospace\"></pre>\n"
      ],
      "text/plain": []
     },
     "metadata": {},
     "output_type": "display_data"
    },
    {
     "data": {
      "text/html": [
       "<pre style=\"white-space:pre;overflow-x:auto;line-height:normal;font-family:Menlo,'DejaVu Sans Mono',consolas,'Courier New',monospace\">\n",
       "</pre>\n"
      ],
      "text/plain": [
       "\n"
      ]
     },
     "metadata": {},
     "output_type": "display_data"
    },
    {
     "name": "stderr",
     "output_type": "stream",
     "text": [
      "Sampling 4 chains for 1_000 tune and 500 draw iterations (4_000 + 2_000 draws total) took 2 seconds.\n",
      "Sampling: [y]\n"
     ]
    },
    {
     "data": {
      "application/vnd.jupyter.widget-view+json": {
       "model_id": "d51dc4b52607475087ec076697e23d46",
       "version_major": 2,
       "version_minor": 0
      },
      "text/plain": [
       "Output()"
      ]
     },
     "metadata": {},
     "output_type": "display_data"
    },
    {
     "data": {
      "text/html": [
       "<pre style=\"white-space:pre;overflow-x:auto;line-height:normal;font-family:Menlo,'DejaVu Sans Mono',consolas,'Courier New',monospace\"></pre>\n"
      ],
      "text/plain": []
     },
     "metadata": {},
     "output_type": "display_data"
    },
    {
     "data": {
      "text/html": [
       "<pre style=\"white-space:pre;overflow-x:auto;line-height:normal;font-family:Menlo,'DejaVu Sans Mono',consolas,'Courier New',monospace\">\n",
       "</pre>\n"
      ],
      "text/plain": [
       "\n"
      ]
     },
     "metadata": {},
     "output_type": "display_data"
    },
    {
     "ename": "KeyError",
     "evalue": "'var names: \"[\\'balls\\' \\'strikes\\' \\'pitch_number\\' \\'at_bat_number\\'] are not present\" in dataset'",
     "output_type": "error",
     "traceback": [
      "\u001b[0;31m---------------------------------------------------------------------------\u001b[0m",
      "\u001b[0;31mKeyError\u001b[0m                                  Traceback (most recent call last)",
      "File \u001b[0;32m~/ANACONDA/anaconda3/lib/python3.12/site-packages/arviz/utils.py:74\u001b[0m, in \u001b[0;36m_var_names\u001b[0;34m(var_names, data, filter_vars, errors)\u001b[0m\n\u001b[1;32m     73\u001b[0m \u001b[38;5;28;01mtry\u001b[39;00m:\n\u001b[0;32m---> 74\u001b[0m     var_names \u001b[38;5;241m=\u001b[39m _subset_list(\n\u001b[1;32m     75\u001b[0m         var_names, all_vars, filter_items\u001b[38;5;241m=\u001b[39mfilter_vars, warn\u001b[38;5;241m=\u001b[39m\u001b[38;5;28;01mFalse\u001b[39;00m, errors\u001b[38;5;241m=\u001b[39merrors\n\u001b[1;32m     76\u001b[0m     )\n\u001b[1;32m     77\u001b[0m \u001b[38;5;28;01mexcept\u001b[39;00m \u001b[38;5;167;01mKeyError\u001b[39;00m \u001b[38;5;28;01mas\u001b[39;00m err:\n",
      "File \u001b[0;32m~/ANACONDA/anaconda3/lib/python3.12/site-packages/arviz/utils.py:154\u001b[0m, in \u001b[0;36m_subset_list\u001b[0;34m(subset, whole_list, filter_items, warn, errors)\u001b[0m\n\u001b[1;32m    153\u001b[0m     \u001b[38;5;28;01mif\u001b[39;00m \u001b[38;5;129;01mnot\u001b[39;00m np\u001b[38;5;241m.\u001b[39mall(existing_items) \u001b[38;5;129;01mand\u001b[39;00m (errors \u001b[38;5;241m==\u001b[39m \u001b[38;5;124m\"\u001b[39m\u001b[38;5;124mraise\u001b[39m\u001b[38;5;124m\"\u001b[39m):\n\u001b[0;32m--> 154\u001b[0m         \u001b[38;5;28;01mraise\u001b[39;00m \u001b[38;5;167;01mKeyError\u001b[39;00m(\u001b[38;5;124mf\u001b[39m\u001b[38;5;124m\"\u001b[39m\u001b[38;5;132;01m{\u001b[39;00mnp\u001b[38;5;241m.\u001b[39marray(subset)[\u001b[38;5;241m~\u001b[39mexisting_items]\u001b[38;5;132;01m}\u001b[39;00m\u001b[38;5;124m are not present\u001b[39m\u001b[38;5;124m\"\u001b[39m)\n\u001b[1;32m    156\u001b[0m \u001b[38;5;28;01mreturn\u001b[39;00m subset\n",
      "\u001b[0;31mKeyError\u001b[0m: \"['balls' 'strikes' 'pitch_number' 'at_bat_number'] are not present\"",
      "\nThe above exception was the direct cause of the following exception:\n",
      "\u001b[0;31mKeyError\u001b[0m                                  Traceback (most recent call last)",
      "Cell \u001b[0;32mIn[17], line 18\u001b[0m\n\u001b[1;32m     15\u001b[0m     count_trace \u001b[38;5;241m=\u001b[39m pm\u001b[38;5;241m.\u001b[39msample(\u001b[38;5;241m500\u001b[39m)\n\u001b[1;32m     16\u001b[0m     count_predictive \u001b[38;5;241m=\u001b[39m pm\u001b[38;5;241m.\u001b[39msample_posterior_predictive(count_trace)\n\u001b[0;32m---> 18\u001b[0m az\u001b[38;5;241m.\u001b[39mplot_posterior(count_trace, var_names\u001b[38;5;241m=\u001b[39m[\u001b[38;5;124m\"\u001b[39m\u001b[38;5;124mballs\u001b[39m\u001b[38;5;124m\"\u001b[39m, \u001b[38;5;124m\"\u001b[39m\u001b[38;5;124mstrikes\u001b[39m\u001b[38;5;124m\"\u001b[39m, \u001b[38;5;124m\"\u001b[39m\u001b[38;5;124mpitch_number\u001b[39m\u001b[38;5;124m\"\u001b[39m, \u001b[38;5;124m'\u001b[39m\u001b[38;5;124mat_bat_number\u001b[39m\u001b[38;5;124m'\u001b[39m])\n\u001b[1;32m     19\u001b[0m plt\u001b[38;5;241m.\u001b[39mshow()\n",
      "File \u001b[0;32m~/ANACONDA/anaconda3/lib/python3.12/site-packages/arviz/plots/posteriorplot.py:230\u001b[0m, in \u001b[0;36mplot_posterior\u001b[0;34m(data, var_names, filter_vars, combine_dims, transform, coords, grid, figsize, textsize, hdi_prob, multimodal, skipna, round_to, point_estimate, group, rope, ref_val, rope_color, ref_val_color, kind, bw, circular, bins, labeller, ax, backend, backend_kwargs, show, **kwargs)\u001b[0m\n\u001b[1;32m    228\u001b[0m \u001b[38;5;28;01mif\u001b[39;00m transform \u001b[38;5;129;01mis\u001b[39;00m \u001b[38;5;129;01mnot\u001b[39;00m \u001b[38;5;28;01mNone\u001b[39;00m:\n\u001b[1;32m    229\u001b[0m     data \u001b[38;5;241m=\u001b[39m transform(data)\n\u001b[0;32m--> 230\u001b[0m var_names \u001b[38;5;241m=\u001b[39m _var_names(var_names, data, filter_vars)\n\u001b[1;32m    232\u001b[0m \u001b[38;5;28;01mif\u001b[39;00m coords \u001b[38;5;129;01mis\u001b[39;00m \u001b[38;5;28;01mNone\u001b[39;00m:\n\u001b[1;32m    233\u001b[0m     coords \u001b[38;5;241m=\u001b[39m {}\n",
      "File \u001b[0;32m~/ANACONDA/anaconda3/lib/python3.12/site-packages/arviz/utils.py:79\u001b[0m, in \u001b[0;36m_var_names\u001b[0;34m(var_names, data, filter_vars, errors)\u001b[0m\n\u001b[1;32m     77\u001b[0m     \u001b[38;5;28;01mexcept\u001b[39;00m \u001b[38;5;167;01mKeyError\u001b[39;00m \u001b[38;5;28;01mas\u001b[39;00m err:\n\u001b[1;32m     78\u001b[0m         msg \u001b[38;5;241m=\u001b[39m \u001b[38;5;124m\"\u001b[39m\u001b[38;5;124m \u001b[39m\u001b[38;5;124m\"\u001b[39m\u001b[38;5;241m.\u001b[39mjoin((\u001b[38;5;124m\"\u001b[39m\u001b[38;5;124mvar names:\u001b[39m\u001b[38;5;124m\"\u001b[39m, \u001b[38;5;124mf\u001b[39m\u001b[38;5;124m\"\u001b[39m\u001b[38;5;132;01m{\u001b[39;00merr\u001b[38;5;132;01m}\u001b[39;00m\u001b[38;5;124m\"\u001b[39m, \u001b[38;5;124m\"\u001b[39m\u001b[38;5;124min dataset\u001b[39m\u001b[38;5;124m\"\u001b[39m))\n\u001b[0;32m---> 79\u001b[0m         \u001b[38;5;28;01mraise\u001b[39;00m \u001b[38;5;167;01mKeyError\u001b[39;00m(msg) \u001b[38;5;28;01mfrom\u001b[39;00m \u001b[38;5;21;01merr\u001b[39;00m\n\u001b[1;32m     80\u001b[0m \u001b[38;5;28;01mreturn\u001b[39;00m var_names\n",
      "\u001b[0;31mKeyError\u001b[0m: 'var names: \"[\\'balls\\' \\'strikes\\' \\'pitch_number\\' \\'at_bat_number\\'] are not present\" in dataset'"
     ]
    }
   ],
   "source": [
    "\n",
    "with pm.Model() as count_model:\n",
    "    # Priors\n",
    "    beta_balls = pm.Normal('beta_balls', mu=0, sigma=1)\n",
    "    beta_strikes = pm.Normal('beta_strikes', mu=0, sigma=1)\n",
    "    beta_pitchNum = pm.Normal('beta_pitchNum', mu=0, sigma=1)\n",
    "    beta_atBatNum = pm.Normal('beta_atBatNum', mu=0, sigma=1)\n",
    "    intercept = pm.Normal('intercept', mu = 0, sigma = 1)\n",
    "\n",
    "    #logistic model \n",
    "    logits = intercept + beta_balls * X['description'] + beta_strikes * (1 - X['description']) + beta_pitchNum * X['pitch_number'] + beta_atBatNum * X['at_bat_number']\n",
    "    p = pm.Deterministic('p', pm.math.sigmoid(logits))\n",
    "    # Likelihood\n",
    "    y = pm.Bernoulli('y', p=p, observed=y_true)\n",
    "    # Sample from the posterior\n",
    "    count_trace = pm.sample(500)\n",
    "    count_predictive = pm.sample_posterior_predictive(count_trace)\n",
    "\n",
    "az.plot_posterior(count_trace, var_names=[\"balls\", \"strikes\", \"pitch_number\", 'at_bat_number'])\n",
    "plt.show()"
   ]
  },
  {
   "cell_type": "code",
   "execution_count": null,
   "id": "ff455589",
   "metadata": {},
   "outputs": [],
   "source": []
  }
 ],
 "metadata": {
  "kernelspec": {
   "display_name": "base",
   "language": "python",
   "name": "python3"
  },
  "language_info": {
   "codemirror_mode": {
    "name": "ipython",
    "version": 3
   },
   "file_extension": ".py",
   "mimetype": "text/x-python",
   "name": "python",
   "nbconvert_exporter": "python",
   "pygments_lexer": "ipython3",
   "version": "3.12.7"
  }
 },
 "nbformat": 4,
 "nbformat_minor": 5
}
